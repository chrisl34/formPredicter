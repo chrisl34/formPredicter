{
  "cells": [
    {
      "cell_type": "code",
      "execution_count": 1,
      "metadata": {
        "id": "qLZli9StI1ml"
      },
      "outputs": [],
      "source": [
        "# All the imports\n",
        "import pandas as pd\n",
        "import statistics\n",
        "import torch\n",
        "from torch.utils.data import DataLoader, TensorDataset\n",
        "from sklearn.model_selection import train_test_split\n",
        "from sklearn.compose import ColumnTransformer\n",
        "from sklearn.pipeline import Pipeline\n",
        "from torch import nn, optim\n",
        "import torch.nn.functional as F\n",
        "from sklearn.metrics import classification_report, confusion_matrix\n",
        "from joblib import dump, load\n",
        "from sklearn.ensemble import GradientBoostingClassifier\n",
        "from sklearn.metrics import accuracy_score, mean_squared_error\n",
        "import imblearn.over_sampling\n",
        "from imblearn.over_sampling import SMOTE, RandomOverSampler\n",
        "from sklearn.feature_extraction.text import CountVectorizer\n",
        "from sklearn.preprocessing import StandardScaler, FunctionTransformer\n",
        "from nltk.corpus import wordnet\n",
        "import random\n",
        "from sklearn.base import BaseEstimator, TransformerMixin\n",
        "import numpy as np\n",
        "from sklearn.preprocessing import MinMaxScaler\n",
        "import matplotlib.pyplot as plt\n",
        "from sklearn.model_selection import LeaveOneOut\n",
        "from sklearn.neighbors import KNeighborsClassifier\n",
        "from sklearn.neighbors import NearestNeighbors"
      ]
    },
    {
      "cell_type": "code",
      "execution_count": 3,
      "metadata": {
        "colab": {
          "base_uri": "https://localhost:8080/"
        },
        "id": "Z6bCQ_shJXCC",
        "outputId": "ff05bab9-f52d-4a94-f22d-d089332ab146"
      },
      "outputs": [],
      "source": [
        "path_detail_df = pd.read_csv(\"./Shooting Form Data/path_detail.csv\")\n",
        "players_ids = path_detail_df['pid'].unique()"
      ]
    },
    {
      "cell_type": "code",
      "execution_count": 5,
      "metadata": {
        "id": "wjhiuC0eMNOL"
      },
      "outputs": [],
      "source": [
        "map_pids_to_player = {}\n",
        "for i in range(len(players_ids)):\n",
        "  filtered_df = path_detail_df[path_detail_df['pid'] == players_ids[i]]\n",
        "  other_column1_values = filtered_df['fnm'].tolist()\n",
        "  other_column2_values = filtered_df['lnm'].tolist()\n",
        "  s = \"\"\n",
        "  s += other_column1_values[0]\n",
        "  s += \" \"\n",
        "  s += other_column2_values[0]\n",
        "  map_pids_to_player[players_ids[i]] = s"
      ]
    },
    {
      "cell_type": "code",
      "execution_count": 6,
      "metadata": {
        "id": "6C1KqNkBNhTX"
      },
      "outputs": [],
      "source": [
        "pids_to_use = [201935, 203081, 2594, 2747, 201980, 200755, 201142, 201939, 202331, 2544, 1717, 101108, 201566, 202681, 202691, 202710, 2546, 202695, 202391, 201565, 977, 203110, 203935, 2738, 1938]"
      ]
    },
    {
      "cell_type": "code",
      "execution_count": 8,
      "metadata": {
        "colab": {
          "base_uri": "https://localhost:8080/"
        },
        "id": "Pf_5iMOtP4sh",
        "outputId": "e07f8eda-e613-4b68-e685-9fa1203f8d25"
      },
      "outputs": [],
      "source": [
        "def take_every_third_and_limit(x):\n",
        "    return x[::15][:20]  # Takes every third element and limits to the first 100 points\n",
        "\n",
        "agg_path_detail_df = path_detail_df.groupby('pid').agg({\n",
        "    'cy': lambda x: take_every_third_and_limit(list(x)),\n",
        "    'cz': lambda x: take_every_third_and_limit(list(x)),\n",
        "    'fnm': 'first',  # or 'last' or another appropriate aggregation function\n",
        "    'lnm': 'first'   # or 'last' or another appropriate aggregation function\n",
        "}).reset_index()\n",
        "\n",
        "# Filter for specific 'pid' values\n",
        "condition = agg_path_detail_df['pid'].isin(pids_to_use)\n",
        "agg_path_detail_df = agg_path_detail_df.loc[condition]"
      ]
    },
    {
      "cell_type": "code",
      "execution_count": 9,
      "metadata": {
        "id": "29OqHWoFQmgX"
      },
      "outputs": [],
      "source": [
        "scaled_rows = []\n",
        "\n",
        "# Initialize MinMaxScaler\n",
        "scaler = MinMaxScaler()\n",
        "\n",
        "for i in range(len(agg_path_detail_df)):\n",
        "    row = agg_path_detail_df.iloc[i]\n",
        "    scaled_row = row.copy()\n",
        "\n",
        "    for col in ['cy', 'cz']:\n",
        "        try:\n",
        "            if isinstance(row[col], list):\n",
        "                data_array = np.array(row[col]).reshape(-1, 1)\n",
        "                scaled_data = scaler.fit_transform(data_array)\n",
        "\n",
        "                scaled_row[col] = scaled_data.flatten().tolist()\n",
        "\n",
        "            else:\n",
        "                print(f\"Skipping row {i} for column {col} as it is not a list.\")\n",
        "        except Exception as e:\n",
        "            raise\n",
        "    scaled_rows.append(scaled_row)\n",
        "scaled_path_detail_df = pd.DataFrame(scaled_rows, columns=agg_path_detail_df.columns)"
      ]
    },
    {
      "cell_type": "code",
      "execution_count": 10,
      "metadata": {
        "colab": {
          "base_uri": "https://localhost:8080/"
        },
        "id": "VE_wQlzERK_R",
        "outputId": "a6f5032a-d14a-4bd6-c94f-56b416e6c86d"
      },
      "outputs": [
        {
          "name": "stdout",
          "output_type": "stream",
          "text": [
            "Player Name: Kobe Bryant\n",
            "Player Name: Dirk Nowitzki\n",
            "Player Name: Manu Ginobili\n",
            "Player Name: LeBron James\n",
            "Player Name: Carmelo Anthony\n",
            "Player Name: Kyle Korver\n",
            "Player Name: Andre Iguodala\n",
            "Player Name: JR Smith\n",
            "Player Name: Chris Paul\n",
            "Player Name: JJ Redick\n",
            "Player Name: Kevin Durant\n",
            "Player Name: Derrick Rose\n",
            "Player Name: Russell Westbrook\n",
            "Player Name: James Harden\n",
            "Player Name: Stephen Curry\n",
            "Player Name: Danny Green\n",
            "Player Name: Paul George\n",
            "Player Name: Jeremy Lin\n",
            "Player Name: Kyrie Irving\n",
            "Player Name: Klay Thompson\n",
            "Player Name: Kawhi Leonard\n",
            "Player Name: Jimmy Butler\n",
            "Player Name: Damian Lillard\n",
            "Player Name: Draymond Green\n",
            "Player Name: Marcus Smart\n"
          ]
        }
      ],
      "source": [
        "final = []\n",
        "for i in range(len(scaled_path_detail_df)):\n",
        "    li = []\n",
        "    print(\"Player Name:\", map_pids_to_player[scaled_path_detail_df.iloc[i]['pid']])\n",
        "    for x in range(len(scaled_path_detail_df.iloc[i]['cy'])):\n",
        "      temp = []\n",
        "      temp.append(scaled_path_detail_df.iloc[i]['cy'][x])\n",
        "      temp.append(scaled_path_detail_df.iloc[i]['cz'][x])\n",
        "      li.append(temp)\n",
        "    final.append(li)"
      ]
    },
    {
      "cell_type": "code",
      "execution_count": 11,
      "metadata": {
        "id": "gv0KMcksSvoj"
      },
      "outputs": [],
      "source": [
        "players_database = []\n",
        "for x in range(len(scaled_path_detail_df)):\n",
        "  cy = scaled_path_detail_df.iloc[x]['cy']\n",
        "  cz = scaled_path_detail_df.iloc[x]['cz']\n",
        "  formatted_array = [[cy[i], cz[i]] for i in range(len(cy))]\n",
        "  players_database.append(formatted_array)\n",
        "players_database = np.array(players_database)"
      ]
    },
    {
      "cell_type": "code",
      "execution_count": 12,
      "metadata": {
        "id": "-gKl25SxToAd"
      },
      "outputs": [],
      "source": [
        "labels = []\n",
        "for i in range(len(scaled_path_detail_df)):\n",
        "  labels.append(map_pids_to_player[scaled_path_detail_df.iloc[i]['pid']])\n",
        "labeled_arrays = [(labels[i], pd.DataFrame(players_database[i])) for i in range(len(players_database))]"
      ]
    },
    {
      "cell_type": "code",
      "execution_count": 13,
      "metadata": {
        "id": "HXzgh-SIUHB6"
      },
      "outputs": [],
      "source": [
        "final_df = pd.concat([df.assign(Label=label) for label, df in labeled_arrays])\n",
        "X = final_df.drop('Label', axis=1)\n",
        "y = final_df['Label']"
      ]
    },
    {
      "cell_type": "code",
      "execution_count": 14,
      "metadata": {
        "id": "pKE7UCgjUo9v"
      },
      "outputs": [],
      "source": [
        "f = [1.0, 0.8284600389863547, 0.6695906432748535, 0.5477582846003898, 0.46003898635477586, 0.39766081871345027, 0.361598440545809, 0.3693957115009746, 0.39766081871345027, 0.466374269005848, 0.5599415204678363, 0.6442495126705653, 0.6842105263157895, 0.6764132553606238, 0.6028265107212476, 0.4956140350877193, 0.3698830409356725, 0.23732943469785572, 0.10916179337231968, 0.0]\n",
        "s = [0.0, 0.07386888273314876, 0.14573714989227463, 0.21406586642043707, 0.2730070791012619, 0.3228685749461373, 0.3742690058479533, 0.42105263157894735, 0.4678362573099415, 0.5112342259156664, 0.559248999692213, 0.6180363188673438, 0.6869806094182827, 0.7559248999692213, 0.8248691905201601, 0.8845798707294552, 0.9315173899661434, 0.9653739612188365, 0.9876885195444752, 1.0]\n",
        "test_aadhi = [[f[i], s[i]] for i in range(len(f))]"
      ]
    },
    {
      "cell_type": "code",
      "execution_count": 15,
      "metadata": {
        "id": "EbhNqfL1WwjS"
      },
      "outputs": [],
      "source": [
        "vik = [0.8051626591230552, 0.4579207920792074, 0.189179632248939, 0.0, 0.140735502121641, 0.13896746817538908, 0.12057991513437055, 0.17185289957567212, 0.30445544554455467, 0.4946958981612448, 0.6877652050919381, 0.8490099009900991, 0.9494342291371993, 1.0, 1.0, 0.9695898161244695, 0.9045261669024045, 0.8543140028288544, 0.8606789250353607, 0.7446958981612447]\n",
        "viky =  [0.0, 0.15062712460438418, 0.24838823115695713, 0.31227288711757123, 0.3709998827804478, 0.3678349548704724, 0.37205485875043964, 0.40663462665572625, 0.46606493963193063, 0.4919704606728402, 0.5362794514124957, 0.596061423045364, 0.6682686672136913, 0.7456335716797562, 0.8215918415191654, 0.8903997186730747, 0.9449068104559841, 0.9859336537334428, 0.9803071152268198, 1.0]\n",
        "test_vik = [[vik[i], viky[i]] for i in range(len(vik))]"
      ]
    },
    {
      "cell_type": "code",
      "execution_count": 16,
      "metadata": {
        "id": "sBqnnzQ7cZto"
      },
      "outputs": [],
      "source": [
        "chris = [[1.0, 0.0], [0.694989106753813, 0.08669454008853898], [0.44589687726942623, 0.17338908017707821], [0.2628903413217139, 0.249754058042302], [0.140885984023239, 0.3146827348745695], [0.05374001452432821, 0.38108706345302507], [0.007262164124909234, 0.44749139203148053], [0.0, 0.5126660108214461], [0.01960784313725487, 0.5742744712247909], [0.0653594771241829, 0.6309640924741761], [0.1960784313725489, 0.6844564682734874], [0.39288307915758897, 0.7283571077225773], [0.5933188090050835, 0.7741023118544024], [0.7785039941902687, 0.8202164289227742], [0.9317356572258533, 0.8622725036891293], [0.9426289034132173, 0.8991637973438269], [0.9448075526506899, 0.9331037875061485], [0.9389978213507626, 0.9613871126414166], [0.9135802469135803, 0.9833989178553861], [0.8482207697893972, 1.0]]"
      ]
    },
    {
      "cell_type": "code",
      "execution_count": 17,
      "metadata": {
        "colab": {
          "base_uri": "https://localhost:8080/",
          "height": 74
        },
        "id": "mOYocp3EdkP2",
        "outputId": "b82cf381-2f49-4965-e5aa-7ee0d88ad894"
      },
      "outputs": [
        {
          "data": {
            "text/html": [
              "<style>#sk-container-id-1 {color: black;}#sk-container-id-1 pre{padding: 0;}#sk-container-id-1 div.sk-toggleable {background-color: white;}#sk-container-id-1 label.sk-toggleable__label {cursor: pointer;display: block;width: 100%;margin-bottom: 0;padding: 0.3em;box-sizing: border-box;text-align: center;}#sk-container-id-1 label.sk-toggleable__label-arrow:before {content: \"▸\";float: left;margin-right: 0.25em;color: #696969;}#sk-container-id-1 label.sk-toggleable__label-arrow:hover:before {color: black;}#sk-container-id-1 div.sk-estimator:hover label.sk-toggleable__label-arrow:before {color: black;}#sk-container-id-1 div.sk-toggleable__content {max-height: 0;max-width: 0;overflow: hidden;text-align: left;background-color: #f0f8ff;}#sk-container-id-1 div.sk-toggleable__content pre {margin: 0.2em;color: black;border-radius: 0.25em;background-color: #f0f8ff;}#sk-container-id-1 input.sk-toggleable__control:checked~div.sk-toggleable__content {max-height: 200px;max-width: 100%;overflow: auto;}#sk-container-id-1 input.sk-toggleable__control:checked~label.sk-toggleable__label-arrow:before {content: \"▾\";}#sk-container-id-1 div.sk-estimator input.sk-toggleable__control:checked~label.sk-toggleable__label {background-color: #d4ebff;}#sk-container-id-1 div.sk-label input.sk-toggleable__control:checked~label.sk-toggleable__label {background-color: #d4ebff;}#sk-container-id-1 input.sk-hidden--visually {border: 0;clip: rect(1px 1px 1px 1px);clip: rect(1px, 1px, 1px, 1px);height: 1px;margin: -1px;overflow: hidden;padding: 0;position: absolute;width: 1px;}#sk-container-id-1 div.sk-estimator {font-family: monospace;background-color: #f0f8ff;border: 1px dotted black;border-radius: 0.25em;box-sizing: border-box;margin-bottom: 0.5em;}#sk-container-id-1 div.sk-estimator:hover {background-color: #d4ebff;}#sk-container-id-1 div.sk-parallel-item::after {content: \"\";width: 100%;border-bottom: 1px solid gray;flex-grow: 1;}#sk-container-id-1 div.sk-label:hover label.sk-toggleable__label {background-color: #d4ebff;}#sk-container-id-1 div.sk-serial::before {content: \"\";position: absolute;border-left: 1px solid gray;box-sizing: border-box;top: 0;bottom: 0;left: 50%;z-index: 0;}#sk-container-id-1 div.sk-serial {display: flex;flex-direction: column;align-items: center;background-color: white;padding-right: 0.2em;padding-left: 0.2em;position: relative;}#sk-container-id-1 div.sk-item {position: relative;z-index: 1;}#sk-container-id-1 div.sk-parallel {display: flex;align-items: stretch;justify-content: center;background-color: white;position: relative;}#sk-container-id-1 div.sk-item::before, #sk-container-id-1 div.sk-parallel-item::before {content: \"\";position: absolute;border-left: 1px solid gray;box-sizing: border-box;top: 0;bottom: 0;left: 50%;z-index: -1;}#sk-container-id-1 div.sk-parallel-item {display: flex;flex-direction: column;z-index: 1;position: relative;background-color: white;}#sk-container-id-1 div.sk-parallel-item:first-child::after {align-self: flex-end;width: 50%;}#sk-container-id-1 div.sk-parallel-item:last-child::after {align-self: flex-start;width: 50%;}#sk-container-id-1 div.sk-parallel-item:only-child::after {width: 0;}#sk-container-id-1 div.sk-dashed-wrapped {border: 1px dashed gray;margin: 0 0.4em 0.5em 0.4em;box-sizing: border-box;padding-bottom: 0.4em;background-color: white;}#sk-container-id-1 div.sk-label label {font-family: monospace;font-weight: bold;display: inline-block;line-height: 1.2em;}#sk-container-id-1 div.sk-label-container {text-align: center;}#sk-container-id-1 div.sk-container {/* jupyter's `normalize.less` sets `[hidden] { display: none; }` but bootstrap.min.css set `[hidden] { display: none !important; }` so we also need the `!important` here to be able to override the default hidden behavior on the sphinx rendered scikit-learn.org. See: https://github.com/scikit-learn/scikit-learn/issues/21755 */display: inline-block !important;position: relative;}#sk-container-id-1 div.sk-text-repr-fallback {display: none;}</style><div id=\"sk-container-id-1\" class=\"sk-top-container\"><div class=\"sk-text-repr-fallback\"><pre>KNeighborsClassifier(metric=&#x27;chebyshev&#x27;, n_neighbors=1)</pre><b>In a Jupyter environment, please rerun this cell to show the HTML representation or trust the notebook. <br />On GitHub, the HTML representation is unable to render, please try loading this page with nbviewer.org.</b></div><div class=\"sk-container\" hidden><div class=\"sk-item\"><div class=\"sk-estimator sk-toggleable\"><input class=\"sk-toggleable__control sk-hidden--visually\" id=\"sk-estimator-id-1\" type=\"checkbox\" checked><label for=\"sk-estimator-id-1\" class=\"sk-toggleable__label sk-toggleable__label-arrow\">KNeighborsClassifier</label><div class=\"sk-toggleable__content\"><pre>KNeighborsClassifier(metric=&#x27;chebyshev&#x27;, n_neighbors=1)</pre></div></div></div></div></div>"
            ],
            "text/plain": [
              "KNeighborsClassifier(metric='chebyshev', n_neighbors=1)"
            ]
          },
          "execution_count": 17,
          "metadata": {},
          "output_type": "execute_result"
        }
      ],
      "source": [
        "knn_chebyshev = KNeighborsClassifier(n_neighbors=1, metric='chebyshev')\n",
        "knn_chebyshev.fit(X, y)"
      ]
    },
    {
      "cell_type": "code",
      "execution_count": 18,
      "metadata": {
        "colab": {
          "base_uri": "https://localhost:8080/",
          "height": 74
        },
        "id": "GeQ1PtHTUJU3",
        "outputId": "a34726dc-0302-4792-8f62-5496077d0e5c"
      },
      "outputs": [
        {
          "data": {
            "text/html": [
              "<style>#sk-container-id-2 {color: black;}#sk-container-id-2 pre{padding: 0;}#sk-container-id-2 div.sk-toggleable {background-color: white;}#sk-container-id-2 label.sk-toggleable__label {cursor: pointer;display: block;width: 100%;margin-bottom: 0;padding: 0.3em;box-sizing: border-box;text-align: center;}#sk-container-id-2 label.sk-toggleable__label-arrow:before {content: \"▸\";float: left;margin-right: 0.25em;color: #696969;}#sk-container-id-2 label.sk-toggleable__label-arrow:hover:before {color: black;}#sk-container-id-2 div.sk-estimator:hover label.sk-toggleable__label-arrow:before {color: black;}#sk-container-id-2 div.sk-toggleable__content {max-height: 0;max-width: 0;overflow: hidden;text-align: left;background-color: #f0f8ff;}#sk-container-id-2 div.sk-toggleable__content pre {margin: 0.2em;color: black;border-radius: 0.25em;background-color: #f0f8ff;}#sk-container-id-2 input.sk-toggleable__control:checked~div.sk-toggleable__content {max-height: 200px;max-width: 100%;overflow: auto;}#sk-container-id-2 input.sk-toggleable__control:checked~label.sk-toggleable__label-arrow:before {content: \"▾\";}#sk-container-id-2 div.sk-estimator input.sk-toggleable__control:checked~label.sk-toggleable__label {background-color: #d4ebff;}#sk-container-id-2 div.sk-label input.sk-toggleable__control:checked~label.sk-toggleable__label {background-color: #d4ebff;}#sk-container-id-2 input.sk-hidden--visually {border: 0;clip: rect(1px 1px 1px 1px);clip: rect(1px, 1px, 1px, 1px);height: 1px;margin: -1px;overflow: hidden;padding: 0;position: absolute;width: 1px;}#sk-container-id-2 div.sk-estimator {font-family: monospace;background-color: #f0f8ff;border: 1px dotted black;border-radius: 0.25em;box-sizing: border-box;margin-bottom: 0.5em;}#sk-container-id-2 div.sk-estimator:hover {background-color: #d4ebff;}#sk-container-id-2 div.sk-parallel-item::after {content: \"\";width: 100%;border-bottom: 1px solid gray;flex-grow: 1;}#sk-container-id-2 div.sk-label:hover label.sk-toggleable__label {background-color: #d4ebff;}#sk-container-id-2 div.sk-serial::before {content: \"\";position: absolute;border-left: 1px solid gray;box-sizing: border-box;top: 0;bottom: 0;left: 50%;z-index: 0;}#sk-container-id-2 div.sk-serial {display: flex;flex-direction: column;align-items: center;background-color: white;padding-right: 0.2em;padding-left: 0.2em;position: relative;}#sk-container-id-2 div.sk-item {position: relative;z-index: 1;}#sk-container-id-2 div.sk-parallel {display: flex;align-items: stretch;justify-content: center;background-color: white;position: relative;}#sk-container-id-2 div.sk-item::before, #sk-container-id-2 div.sk-parallel-item::before {content: \"\";position: absolute;border-left: 1px solid gray;box-sizing: border-box;top: 0;bottom: 0;left: 50%;z-index: -1;}#sk-container-id-2 div.sk-parallel-item {display: flex;flex-direction: column;z-index: 1;position: relative;background-color: white;}#sk-container-id-2 div.sk-parallel-item:first-child::after {align-self: flex-end;width: 50%;}#sk-container-id-2 div.sk-parallel-item:last-child::after {align-self: flex-start;width: 50%;}#sk-container-id-2 div.sk-parallel-item:only-child::after {width: 0;}#sk-container-id-2 div.sk-dashed-wrapped {border: 1px dashed gray;margin: 0 0.4em 0.5em 0.4em;box-sizing: border-box;padding-bottom: 0.4em;background-color: white;}#sk-container-id-2 div.sk-label label {font-family: monospace;font-weight: bold;display: inline-block;line-height: 1.2em;}#sk-container-id-2 div.sk-label-container {text-align: center;}#sk-container-id-2 div.sk-container {/* jupyter's `normalize.less` sets `[hidden] { display: none; }` but bootstrap.min.css set `[hidden] { display: none !important; }` so we also need the `!important` here to be able to override the default hidden behavior on the sphinx rendered scikit-learn.org. See: https://github.com/scikit-learn/scikit-learn/issues/21755 */display: inline-block !important;position: relative;}#sk-container-id-2 div.sk-text-repr-fallback {display: none;}</style><div id=\"sk-container-id-2\" class=\"sk-top-container\"><div class=\"sk-text-repr-fallback\"><pre>KNeighborsClassifier(metric=&#x27;euclidean&#x27;, n_neighbors=1)</pre><b>In a Jupyter environment, please rerun this cell to show the HTML representation or trust the notebook. <br />On GitHub, the HTML representation is unable to render, please try loading this page with nbviewer.org.</b></div><div class=\"sk-container\" hidden><div class=\"sk-item\"><div class=\"sk-estimator sk-toggleable\"><input class=\"sk-toggleable__control sk-hidden--visually\" id=\"sk-estimator-id-2\" type=\"checkbox\" checked><label for=\"sk-estimator-id-2\" class=\"sk-toggleable__label sk-toggleable__label-arrow\">KNeighborsClassifier</label><div class=\"sk-toggleable__content\"><pre>KNeighborsClassifier(metric=&#x27;euclidean&#x27;, n_neighbors=1)</pre></div></div></div></div></div>"
            ],
            "text/plain": [
              "KNeighborsClassifier(metric='euclidean', n_neighbors=1)"
            ]
          },
          "execution_count": 18,
          "metadata": {},
          "output_type": "execute_result"
        }
      ],
      "source": [
        "knn_euclidean = KNeighborsClassifier(n_neighbors=1, metric='euclidean')\n",
        "knn_euclidean.fit(X, y)"
      ]
    },
    {
      "cell_type": "code",
      "execution_count": 19,
      "metadata": {
        "colab": {
          "base_uri": "https://localhost:8080/",
          "height": 74
        },
        "id": "9XsrfEytjrpO",
        "outputId": "c7cea80e-1cf7-4c0f-c451-87be8b1d5b55"
      },
      "outputs": [
        {
          "data": {
            "text/html": [
              "<style>#sk-container-id-3 {color: black;}#sk-container-id-3 pre{padding: 0;}#sk-container-id-3 div.sk-toggleable {background-color: white;}#sk-container-id-3 label.sk-toggleable__label {cursor: pointer;display: block;width: 100%;margin-bottom: 0;padding: 0.3em;box-sizing: border-box;text-align: center;}#sk-container-id-3 label.sk-toggleable__label-arrow:before {content: \"▸\";float: left;margin-right: 0.25em;color: #696969;}#sk-container-id-3 label.sk-toggleable__label-arrow:hover:before {color: black;}#sk-container-id-3 div.sk-estimator:hover label.sk-toggleable__label-arrow:before {color: black;}#sk-container-id-3 div.sk-toggleable__content {max-height: 0;max-width: 0;overflow: hidden;text-align: left;background-color: #f0f8ff;}#sk-container-id-3 div.sk-toggleable__content pre {margin: 0.2em;color: black;border-radius: 0.25em;background-color: #f0f8ff;}#sk-container-id-3 input.sk-toggleable__control:checked~div.sk-toggleable__content {max-height: 200px;max-width: 100%;overflow: auto;}#sk-container-id-3 input.sk-toggleable__control:checked~label.sk-toggleable__label-arrow:before {content: \"▾\";}#sk-container-id-3 div.sk-estimator input.sk-toggleable__control:checked~label.sk-toggleable__label {background-color: #d4ebff;}#sk-container-id-3 div.sk-label input.sk-toggleable__control:checked~label.sk-toggleable__label {background-color: #d4ebff;}#sk-container-id-3 input.sk-hidden--visually {border: 0;clip: rect(1px 1px 1px 1px);clip: rect(1px, 1px, 1px, 1px);height: 1px;margin: -1px;overflow: hidden;padding: 0;position: absolute;width: 1px;}#sk-container-id-3 div.sk-estimator {font-family: monospace;background-color: #f0f8ff;border: 1px dotted black;border-radius: 0.25em;box-sizing: border-box;margin-bottom: 0.5em;}#sk-container-id-3 div.sk-estimator:hover {background-color: #d4ebff;}#sk-container-id-3 div.sk-parallel-item::after {content: \"\";width: 100%;border-bottom: 1px solid gray;flex-grow: 1;}#sk-container-id-3 div.sk-label:hover label.sk-toggleable__label {background-color: #d4ebff;}#sk-container-id-3 div.sk-serial::before {content: \"\";position: absolute;border-left: 1px solid gray;box-sizing: border-box;top: 0;bottom: 0;left: 50%;z-index: 0;}#sk-container-id-3 div.sk-serial {display: flex;flex-direction: column;align-items: center;background-color: white;padding-right: 0.2em;padding-left: 0.2em;position: relative;}#sk-container-id-3 div.sk-item {position: relative;z-index: 1;}#sk-container-id-3 div.sk-parallel {display: flex;align-items: stretch;justify-content: center;background-color: white;position: relative;}#sk-container-id-3 div.sk-item::before, #sk-container-id-3 div.sk-parallel-item::before {content: \"\";position: absolute;border-left: 1px solid gray;box-sizing: border-box;top: 0;bottom: 0;left: 50%;z-index: -1;}#sk-container-id-3 div.sk-parallel-item {display: flex;flex-direction: column;z-index: 1;position: relative;background-color: white;}#sk-container-id-3 div.sk-parallel-item:first-child::after {align-self: flex-end;width: 50%;}#sk-container-id-3 div.sk-parallel-item:last-child::after {align-self: flex-start;width: 50%;}#sk-container-id-3 div.sk-parallel-item:only-child::after {width: 0;}#sk-container-id-3 div.sk-dashed-wrapped {border: 1px dashed gray;margin: 0 0.4em 0.5em 0.4em;box-sizing: border-box;padding-bottom: 0.4em;background-color: white;}#sk-container-id-3 div.sk-label label {font-family: monospace;font-weight: bold;display: inline-block;line-height: 1.2em;}#sk-container-id-3 div.sk-label-container {text-align: center;}#sk-container-id-3 div.sk-container {/* jupyter's `normalize.less` sets `[hidden] { display: none; }` but bootstrap.min.css set `[hidden] { display: none !important; }` so we also need the `!important` here to be able to override the default hidden behavior on the sphinx rendered scikit-learn.org. See: https://github.com/scikit-learn/scikit-learn/issues/21755 */display: inline-block !important;position: relative;}#sk-container-id-3 div.sk-text-repr-fallback {display: none;}</style><div id=\"sk-container-id-3\" class=\"sk-top-container\"><div class=\"sk-text-repr-fallback\"><pre>KNeighborsClassifier(metric=&#x27;manhattan&#x27;, n_neighbors=1)</pre><b>In a Jupyter environment, please rerun this cell to show the HTML representation or trust the notebook. <br />On GitHub, the HTML representation is unable to render, please try loading this page with nbviewer.org.</b></div><div class=\"sk-container\" hidden><div class=\"sk-item\"><div class=\"sk-estimator sk-toggleable\"><input class=\"sk-toggleable__control sk-hidden--visually\" id=\"sk-estimator-id-3\" type=\"checkbox\" checked><label for=\"sk-estimator-id-3\" class=\"sk-toggleable__label sk-toggleable__label-arrow\">KNeighborsClassifier</label><div class=\"sk-toggleable__content\"><pre>KNeighborsClassifier(metric=&#x27;manhattan&#x27;, n_neighbors=1)</pre></div></div></div></div></div>"
            ],
            "text/plain": [
              "KNeighborsClassifier(metric='manhattan', n_neighbors=1)"
            ]
          },
          "execution_count": 19,
          "metadata": {},
          "output_type": "execute_result"
        }
      ],
      "source": [
        "knn_manhattan = KNeighborsClassifier(n_neighbors=1, metric='manhattan')\n",
        "knn_manhattan.fit(X, y)"
      ]
    },
    {
      "cell_type": "code",
      "execution_count": 20,
      "metadata": {
        "id": "L1gK6s57fscH"
      },
      "outputs": [],
      "source": [
        "def give_prediction(test_array):\n",
        "  options = []\n",
        "  prediction1 = knn_chebyshev.predict(test_array)\n",
        "\n",
        "  prediction2 = knn_euclidean.predict(test_array)\n",
        "\n",
        "  prediction3 = knn_manhattan.predict(test_array)\n",
        "\n",
        "  if(prediction1[0] == prediction2[0] == prediction3[0]):\n",
        "    options.append(prediction1[0])\n",
        "  else:\n",
        "    options.append(prediction1[0])\n",
        "    options.append(prediction2[0])\n",
        "    options.append(prediction3[0])\n",
        "  return options"
      ]
    },
    {
      "cell_type": "code",
      "execution_count": 21,
      "metadata": {
        "colab": {
          "base_uri": "https://localhost:8080/"
        },
        "id": "ld9DQvi9gsJM",
        "outputId": "705056c7-617b-4188-cf85-69e46b6d9424"
      },
      "outputs": [
        {
          "data": {
            "text/plain": [
              "['Kyle Korver']"
            ]
          },
          "execution_count": 21,
          "metadata": {},
          "output_type": "execute_result"
        }
      ],
      "source": [
        "give_prediction(chris)"
      ]
    },
    {
      "cell_type": "code",
      "execution_count": 22,
      "metadata": {
        "id": "SyReU8gtPtsL"
      },
      "outputs": [
        {
          "data": {
            "text/plain": [
              "['Chris Paul']"
            ]
          },
          "execution_count": 22,
          "metadata": {},
          "output_type": "execute_result"
        }
      ],
      "source": [
        "aaron = [[0.7453773113443277, 0.0], [0.42778610694652647, 0.14691778843376294], [0.2588705647176412, 0.25114102490034085], [0.20314842578710646, 0.3336992316136115], [0.24012993503248378, 0.41619966491420657], [0.33508245877061477, 0.5147033335259114], [0.47351324337831086, 0.49240279623317346], [0.6434282858570713, 0.5433011728002772], [0.8073463268365818, 0.5987636489687447], [0.9375312343828086, 0.6592524120399793], [1.0, 0.725114102490034], [0.9590204897551223, 0.7880871223063147], [0.8370814592703648, 0.8472470968860131], [0.6841579210394803, 0.897567739326362], [0.5032483758120938, 0.9345427234386735], [0.3620689655172413, 0.9637182968397943], [0.2491254372813593, 0.9757351666762955], [0.06696651674162919, 0.9877520365127969], [0.006996501749125433, 0.9963025015887689], [0.0, 1.0]]\n",
        "give_prediction(aaron)"
      ]
    }
  ],
  "metadata": {
    "colab": {
      "provenance": []
    },
    "kernelspec": {
      "display_name": "Python 3.11.6 ('base')",
      "language": "python",
      "name": "python3"
    },
    "language_info": {
      "codemirror_mode": {
        "name": "ipython",
        "version": 3
      },
      "file_extension": ".py",
      "mimetype": "text/x-python",
      "name": "python",
      "nbconvert_exporter": "python",
      "pygments_lexer": "ipython3",
      "version": "3.11.6"
    },
    "vscode": {
      "interpreter": {
        "hash": "29bf3bf4e5ca07c2dfeea41ff635140b754e818cda6d855159392e8b7ceb4723"
      }
    }
  },
  "nbformat": 4,
  "nbformat_minor": 0
}
