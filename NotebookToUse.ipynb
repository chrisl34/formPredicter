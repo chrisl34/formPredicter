{
 "cells": [
  {
   "cell_type": "code",
   "execution_count": 13,
   "metadata": {},
   "outputs": [],
   "source": [
    "import pandas as pd\n",
    "import numpy as np\n",
    "from sklearn.preprocessing import MinMaxScaler\n",
    "import matplotlib.pyplot as plt"
   ]
  },
  {
   "cell_type": "code",
   "execution_count": 14,
   "metadata": {},
   "outputs": [],
   "source": [
    "# All the imports\n",
    "import pandas as pd\n",
    "import torch\n",
    "from torch.utils.data import DataLoader, TensorDataset\n",
    "from sklearn.model_selection import train_test_split\n",
    "from sklearn.compose import ColumnTransformer\n",
    "from sklearn.pipeline import Pipeline\n",
    "from torch import nn, optim\n",
    "import torch.nn.functional as F\n",
    "from sklearn.metrics import classification_report, confusion_matrix\n",
    "from joblib import dump, load\n",
    "from sklearn.ensemble import GradientBoostingClassifier\n",
    "from sklearn.metrics import accuracy_score, mean_squared_error\n",
    "import imblearn.over_sampling \n",
    "from imblearn.over_sampling import SMOTE, RandomOverSampler\n",
    "from sklearn.feature_extraction.text import CountVectorizer\n",
    "from sklearn.preprocessing import StandardScaler, FunctionTransformer\n",
    "from nltk.corpus import wordnet\n",
    "import random\n",
    "from sklearn.base import BaseEstimator, TransformerMixin\n"
   ]
  },
  {
   "cell_type": "code",
   "execution_count": 15,
   "metadata": {},
   "outputs": [
    {
     "name": "stdout",
     "output_type": "stream",
     "text": [
      "Index(['pid', 'fnm', 'lnm', 'hght', 'n', 'bx', 'by', 'bz', 'rt', 'rx', 'ry',\n",
      "       'rz', 'rv', 'rvx', 'rvy', 'rvz', 'mnv', 'mnvt', 'mnvx', 'mnvy', 'mnvz',\n",
      "       'mxv', 'mxvt', 'mxvx', 'mxvy', 'mxvz', 'ta1t', 'ta1x', 'ta1y', 'ta1z',\n",
      "       'ta2t', 'ta2x', 'ta2y', 'ta2z', 'at1t', 'at1x', 'at1y', 'at1z', 'at2t',\n",
      "       'at2x', 'at2y', 'at2z', 'lr1t', 'lr1x', 'lr1y', 'lr1z', 'lr2t', 'lr2x',\n",
      "       'lr2y', 'lr2z', 'rl1t', 'rl1x', 'rl1y', 'rl1z', 'rl2t', 'rl2x', 'rl2y',\n",
      "       'rl2z', 'pl', 'spl', 'plr'],\n",
      "      dtype='object')\n",
      "Index(['pid', 'fnm', 'lnm', 'hght', 't', 'ddst', 'cx', 'cy', 'cz', 'cvx',\n",
      "       'cvy', 'cvz', 'cv', 'cax', 'cay', 'caz', 'ca', 'rt', 'dx', 'dy', 'dz',\n",
      "       'd'],\n",
      "      dtype='object')\n"
     ]
    }
   ],
   "source": [
    "# load data\n",
    "path_detail_df = pd.read_csv(\"path_detail.csv\")\n",
    "player_metrics_df = pd.read_csv(\"player_metrics.csv\")\n",
    "print(player_metrics_df.columns)\n",
    "print(path_detail_df.columns)"
   ]
  },
  {
   "cell_type": "code",
   "execution_count": 16,
   "metadata": {},
   "outputs": [
    {
     "data": {
      "text/html": [
       "<div>\n",
       "<style scoped>\n",
       "    .dataframe tbody tr th:only-of-type {\n",
       "        vertical-align: middle;\n",
       "    }\n",
       "\n",
       "    .dataframe tbody tr th {\n",
       "        vertical-align: top;\n",
       "    }\n",
       "\n",
       "    .dataframe thead th {\n",
       "        text-align: right;\n",
       "    }\n",
       "</style>\n",
       "<table border=\"1\" class=\"dataframe\">\n",
       "  <thead>\n",
       "    <tr style=\"text-align: right;\">\n",
       "      <th></th>\n",
       "      <th>pid</th>\n",
       "      <th>cy</th>\n",
       "      <th>cz</th>\n",
       "      <th>fnm</th>\n",
       "      <th>lnm</th>\n",
       "    </tr>\n",
       "  </thead>\n",
       "  <tbody>\n",
       "    <tr>\n",
       "      <th>57</th>\n",
       "      <td>201142</td>\n",
       "      <td>[0.1680160363903216, 0.2356226793842775, 0.301...</td>\n",
       "      <td>[3.4031525766674697, 3.536222492003237, 3.7007...</td>\n",
       "      <td>Kevin</td>\n",
       "      <td>Durant</td>\n",
       "    </tr>\n",
       "    <tr>\n",
       "      <th>88</th>\n",
       "      <td>201935</td>\n",
       "      <td>[0.1680846790289842, 0.119290607812078, 0.0731...</td>\n",
       "      <td>[3.3473054010159005, 3.444111705324316, 3.5663...</td>\n",
       "      <td>James</td>\n",
       "      <td>Harden</td>\n",
       "    </tr>\n",
       "    <tr>\n",
       "      <th>91</th>\n",
       "      <td>201939</td>\n",
       "      <td>[0.1336904216733061, 0.1635036134360679, 0.191...</td>\n",
       "      <td>[3.262894407651078, 3.4188976431704203, 3.5943...</td>\n",
       "      <td>Stephen</td>\n",
       "      <td>Curry</td>\n",
       "    </tr>\n",
       "    <tr>\n",
       "      <th>125</th>\n",
       "      <td>202681</td>\n",
       "      <td>[-0.0448569109508567, 0.026035270981794, 0.092...</td>\n",
       "      <td>[2.854115540659227, 2.8640449035781943, 2.8952...</td>\n",
       "      <td>Kyrie</td>\n",
       "      <td>Irving</td>\n",
       "    </tr>\n",
       "    <tr>\n",
       "      <th>129</th>\n",
       "      <td>202691</td>\n",
       "      <td>[0.0770202130607479, 0.0983300565439261, 0.118...</td>\n",
       "      <td>[3.593299792613544, 3.660719236941019, 3.75459...</td>\n",
       "      <td>Klay</td>\n",
       "      <td>Thompson</td>\n",
       "    </tr>\n",
       "    <tr>\n",
       "      <th>146</th>\n",
       "      <td>203081</td>\n",
       "      <td>[-0.1810506627386712, -0.1170564467226992, -0....</td>\n",
       "      <td>[2.9692300460026178, 3.077672250501492, 3.2074...</td>\n",
       "      <td>Damian</td>\n",
       "      <td>Lillard</td>\n",
       "    </tr>\n",
       "  </tbody>\n",
       "</table>\n",
       "</div>"
      ],
      "text/plain": [
       "        pid                                                 cy  \\\n",
       "57   201142  [0.1680160363903216, 0.2356226793842775, 0.301...   \n",
       "88   201935  [0.1680846790289842, 0.119290607812078, 0.0731...   \n",
       "91   201939  [0.1336904216733061, 0.1635036134360679, 0.191...   \n",
       "125  202681  [-0.0448569109508567, 0.026035270981794, 0.092...   \n",
       "129  202691  [0.0770202130607479, 0.0983300565439261, 0.118...   \n",
       "146  203081  [-0.1810506627386712, -0.1170564467226992, -0....   \n",
       "\n",
       "                                                    cz      fnm       lnm  \n",
       "57   [3.4031525766674697, 3.536222492003237, 3.7007...    Kevin    Durant  \n",
       "88   [3.3473054010159005, 3.444111705324316, 3.5663...    James    Harden  \n",
       "91   [3.262894407651078, 3.4188976431704203, 3.5943...  Stephen     Curry  \n",
       "125  [2.854115540659227, 2.8640449035781943, 2.8952...    Kyrie    Irving  \n",
       "129  [3.593299792613544, 3.660719236941019, 3.75459...     Klay  Thompson  \n",
       "146  [2.9692300460026178, 3.077672250501492, 3.2074...   Damian   Lillard  "
      ]
     },
     "execution_count": 16,
     "metadata": {},
     "output_type": "execute_result"
    }
   ],
   "source": [
    "import pandas as pd\n",
    "\n",
    "# Define custom aggregation function to take every third element and limit to 100 points\n",
    "def take_every_third_and_limit(x):\n",
    "    return x[::15][:20]  # Takes every third element and limits to the first 100 points\n",
    "\n",
    "agg_path_detail_df = path_detail_df.groupby('pid').agg({\n",
    "    'cy': lambda x: take_every_third_and_limit(list(x)),\n",
    "    'cz': lambda x: take_every_third_and_limit(list(x)),\n",
    "    'fnm': 'first',  # or 'last' or another appropriate aggregation function\n",
    "    'lnm': 'first'   # or 'last' or another appropriate aggregation function\n",
    "}).reset_index()\n",
    "\n",
    "# Filter for specific 'pid' values\n",
    "condition = agg_path_detail_df['pid'].isin([201935, 203081, 201142, 201939, 202691, 202681])\n",
    "agg_path_detail_df = agg_path_detail_df.loc[condition]\n",
    "\n",
    "# Display the first few rows\n",
    "agg_path_detail_df.head()\n",
    "# print(len(agg_path_detail_df.head()))\n",
    "agg_path_detail_df.head(6)\n"
   ]
  },
  {
   "cell_type": "code",
   "execution_count": 17,
   "metadata": {},
   "outputs": [
    {
     "name": "stdout",
     "output_type": "stream",
     "text": [
      "\n",
      "Scaled DataFrame:\n",
      "6\n"
     ]
    },
    {
     "data": {
      "text/html": [
       "<div>\n",
       "<style scoped>\n",
       "    .dataframe tbody tr th:only-of-type {\n",
       "        vertical-align: middle;\n",
       "    }\n",
       "\n",
       "    .dataframe tbody tr th {\n",
       "        vertical-align: top;\n",
       "    }\n",
       "\n",
       "    .dataframe thead th {\n",
       "        text-align: right;\n",
       "    }\n",
       "</style>\n",
       "<table border=\"1\" class=\"dataframe\">\n",
       "  <thead>\n",
       "    <tr style=\"text-align: right;\">\n",
       "      <th></th>\n",
       "      <th>pid</th>\n",
       "      <th>cy</th>\n",
       "      <th>cz</th>\n",
       "      <th>fnm</th>\n",
       "      <th>lnm</th>\n",
       "    </tr>\n",
       "  </thead>\n",
       "  <tbody>\n",
       "    <tr>\n",
       "      <th>57</th>\n",
       "      <td>201142</td>\n",
       "      <td>[0.37126293167857605, 0.49908378468476877, 0.6...</td>\n",
       "      <td>[0.0, 0.02929346614161299, 0.06551088319437681...</td>\n",
       "      <td>Kevin</td>\n",
       "      <td>Durant</td>\n",
       "    </tr>\n",
       "    <tr>\n",
       "      <th>88</th>\n",
       "      <td>201935</td>\n",
       "      <td>[1.0, 0.7821143474158778, 0.5759799883971807, ...</td>\n",
       "      <td>[0.0, 0.02468855193848185, 0.05586326167596545...</td>\n",
       "      <td>James</td>\n",
       "      <td>Harden</td>\n",
       "    </tr>\n",
       "    <tr>\n",
       "      <th>91</th>\n",
       "      <td>201939</td>\n",
       "      <td>[0.5792421987984441, 0.6999572187313892, 0.811...</td>\n",
       "      <td>[0.0, 0.03852529245988601, 0.08186024037014894...</td>\n",
       "      <td>Stephen</td>\n",
       "      <td>Curry</td>\n",
       "    </tr>\n",
       "    <tr>\n",
       "      <th>125</th>\n",
       "      <td>202681</td>\n",
       "      <td>[0.0, 0.12720510086253506, 0.24717305798693448...</td>\n",
       "      <td>[0.0, 0.002943701931232723, 0.0122036352485901...</td>\n",
       "      <td>Kyrie</td>\n",
       "      <td>Irving</td>\n",
       "    </tr>\n",
       "    <tr>\n",
       "      <th>129</th>\n",
       "      <td>202691</td>\n",
       "      <td>[0.4431085471452963, 0.5778465194186798, 0.704...</td>\n",
       "      <td>[0.0, 0.01806584613150708, 0.04322015855033012...</td>\n",
       "      <td>Klay</td>\n",
       "      <td>Thompson</td>\n",
       "    </tr>\n",
       "    <tr>\n",
       "      <th>146</th>\n",
       "      <td>203081</td>\n",
       "      <td>[0.0, 0.16259314085555482, 0.31915483138993533...</td>\n",
       "      <td>[0.0, 0.02853379024629532, 0.0626913932302895,...</td>\n",
       "      <td>Damian</td>\n",
       "      <td>Lillard</td>\n",
       "    </tr>\n",
       "  </tbody>\n",
       "</table>\n",
       "</div>"
      ],
      "text/plain": [
       "        pid                                                 cy  \\\n",
       "57   201142  [0.37126293167857605, 0.49908378468476877, 0.6...   \n",
       "88   201935  [1.0, 0.7821143474158778, 0.5759799883971807, ...   \n",
       "91   201939  [0.5792421987984441, 0.6999572187313892, 0.811...   \n",
       "125  202681  [0.0, 0.12720510086253506, 0.24717305798693448...   \n",
       "129  202691  [0.4431085471452963, 0.5778465194186798, 0.704...   \n",
       "146  203081  [0.0, 0.16259314085555482, 0.31915483138993533...   \n",
       "\n",
       "                                                    cz      fnm       lnm  \n",
       "57   [0.0, 0.02929346614161299, 0.06551088319437681...    Kevin    Durant  \n",
       "88   [0.0, 0.02468855193848185, 0.05586326167596545...    James    Harden  \n",
       "91   [0.0, 0.03852529245988601, 0.08186024037014894...  Stephen     Curry  \n",
       "125  [0.0, 0.002943701931232723, 0.0122036352485901...    Kyrie    Irving  \n",
       "129  [0.0, 0.01806584613150708, 0.04322015855033012...     Klay  Thompson  \n",
       "146  [0.0, 0.02853379024629532, 0.0626913932302895,...   Damian   Lillard  "
      ]
     },
     "execution_count": 17,
     "metadata": {},
     "output_type": "execute_result"
    }
   ],
   "source": [
    "# Create a list to store scaled rows\n",
    "scaled_rows = []\n",
    "\n",
    "# Initialize MinMaxScaler\n",
    "scaler = MinMaxScaler()\n",
    "\n",
    "for i in range(len(agg_path_detail_df)):\n",
    "    row = agg_path_detail_df.iloc[i]\n",
    "    scaled_row = row.copy()\n",
    "    \n",
    "    for col in ['cy', 'cz']:\n",
    "        try:\n",
    "            # Debug print to inspect the data type and content\n",
    "#             print(f\"\\nRow {i} - Column {col} - Data type: {type(row[col])}\")\n",
    "#             print(f\"Data before scaling: {row[col]}\")\n",
    "\n",
    "            # Ensure the data is a list before processing\n",
    "            if isinstance(row[col], list):\n",
    "                # Convert the column data to numpy array for scaling\n",
    "                data_array = np.array(row[col]).reshape(-1, 1)\n",
    "                \n",
    "                # Debug print to inspect data before scaling\n",
    "#                 print(f\"Before scaling - Row: {i}, Column: {col}, Data: {data_array}\")\n",
    "                \n",
    "                # Fit the scaler to your data and transform it\n",
    "                scaled_data = scaler.fit_transform(data_array)\n",
    "                \n",
    "                # Convert the scaled data back to a list and update the row\n",
    "                scaled_row[col] = scaled_data.flatten().tolist()\n",
    "                \n",
    "                # Debug print to inspect data after scaling\n",
    "#                 print(f\"After scaling - Row: {i}, Column: {col}, Data: {scaled_row[col]}\")\n",
    "            else:\n",
    "                print(f\"Skipping row {i} for column {col} as it is not a list.\")\n",
    "        except Exception as e:\n",
    "#             print(f\"Error processing row {i} in column {col}: {e}\")\n",
    "            raise\n",
    "    \n",
    "    # Append the scaled row to the list\n",
    "    scaled_rows.append(scaled_row)\n",
    "\n",
    "# Convert the list of scaled rows into a DataFrame\n",
    "scaled_path_detail_df = pd.DataFrame(scaled_rows, columns=agg_path_detail_df.columns)\n",
    "\n",
    "# Display the first few rows of the new DataFrame\n",
    "print(\"\\nScaled DataFrame:\")\n",
    "print(len(scaled_path_detail_df))\n",
    "scaled_path_detail_df.head(7)\n"
   ]
  },
  {
   "cell_type": "code",
   "execution_count": 18,
   "metadata": {},
   "outputs": [
    {
     "name": "stdout",
     "output_type": "stream",
     "text": [
      "<class 'pandas.core.series.Series'>\n",
      "<class 'pandas.core.series.Series'>\n"
     ]
    }
   ],
   "source": [
    "james_harden_x = scaled_path_detail_df.loc[agg_path_detail_df['pid'] == 201935, 'cy']\n",
    "james_harden_y = scaled_path_detail_df.loc[agg_path_detail_df['pid'] == 201935, 'cz']\n",
    "kevin_durant_x = scaled_path_detail_df.loc[agg_path_detail_df['pid'] == 201142, 'cy']\n",
    "kevin_durant_y = scaled_path_detail_df.loc[agg_path_detail_df['pid'] == 201142, 'cz']\n",
    "\n",
    "print(type(james_harden_x))\n",
    "print(type(kevin_durant_x))\n",
    "\n",
    "steph_curry_x = scaled_path_detail_df.loc[agg_path_detail_df['pid'] == 201939, 'cy']\n",
    "steph_curry_y = scaled_path_detail_df.loc[agg_path_detail_df['pid'] == 201939, 'cz']\n",
    "dame_lilla_x = scaled_path_detail_df.loc[agg_path_detail_df['pid'] == 203081, 'cy']\n",
    "dame_lilla_y = scaled_path_detail_df.loc[agg_path_detail_df['pid'] == 203081, 'cz']"
   ]
  },
  {
   "cell_type": "code",
   "execution_count": 19,
   "metadata": {},
   "outputs": [
    {
     "data": {
      "text/plain": [
       "Text(0.5, 1.0, 'Kevin Durant vs. James Harden Shot')"
      ]
     },
     "execution_count": 19,
     "metadata": {},
     "output_type": "execute_result"
    },
    {
     "data": {
      "image/png": "[encoded data removed]",
      "text/plain": [
       "<Figure size 500x300 with 1 Axes>"
      ]
     },
     "metadata": {},
     "output_type": "display_data"
    }
   ],
   "source": [
    "# Create a smaller figure\n",
    "plt.figure(figsize=(5, 3))  # Adjust the values for width and height as needed\n",
    "\n",
    "# Plotting the data with different colors\n",
    "plt.plot(james_harden_x.tolist(), james_harden_y.tolist(), marker='o', linestyle='-', color='blue', label='Line 1')\n",
    "plt.plot(kevin_durant_x.tolist(), kevin_durant_y.tolist(), marker='s', linestyle='--', color='green', label='Line 2')\n",
    "\n",
    "# Adding labels and title\n",
    "plt.xlabel('Horizontal Shot Movement (ft)')\n",
    "plt.ylabel('Vertical Shot Movement (ft)')\n",
    "plt.title('Kevin Durant vs. James Harden Shot')"
   ]
  },
  {
   "cell_type": "code",
   "execution_count": 20,
   "metadata": {},
   "outputs": [
    {
     "data": {
      "text/plain": [
       "Text(0.5, 1.0, 'Kevin Durant vs. James Harden Shot')"
      ]
     },
     "execution_count": 20,
     "metadata": {},
     "output_type": "execute_result"
    },
    {
     "data": {
      "image/png": "[encoded data removed]",
      "text/plain": [
       "<Figure size 500x300 with 1 Axes>"
      ]
     },
     "metadata": {},
     "output_type": "display_data"
    }
   ],
   "source": [
    "# Create a smaller figure\n",
    "plt.figure(figsize=(5, 3))  # Adjust the values for width and height as needed\n",
    "\n",
    "# Plotting the data with different colors\n",
    "plt.plot(james_harden_x.tolist(), james_harden_y.tolist(), marker='o', linestyle='-', color='blue', label='Line 1')\n",
    "plt.plot(kevin_durant_x.tolist(), kevin_durant_y.tolist(), marker='s', linestyle='--', color='green', label='Line 2')\n",
    "\n",
    "# Adding labels and title\n",
    "plt.xlabel('Horizontal Shot Movement (ft)')\n",
    "plt.ylabel('Vertical Shot Movement (ft)')\n",
    "plt.title('Kevin Durant vs. James Harden Shot')\n"
   ]
  },
  {
   "cell_type": "code",
   "execution_count": 21,
   "metadata": {},
   "outputs": [
    {
     "data": {
      "text/plain": [
       "Text(0.5, 1.0, 'Stephen Curry vs. Damian Lillard Shot')"
      ]
     },
     "execution_count": 21,
     "metadata": {},
     "output_type": "execute_result"
    },
    {
     "data": {
      "image/png": "[encoded data removed]",
      "text/plain": [
       "<Figure size 500x300 with 1 Axes>"
      ]
     },
     "metadata": {},
     "output_type": "display_data"
    }
   ],
   "source": [
    "# Create a smaller figure\n",
    "plt.figure(figsize=(5, 3))  # Adjust the values for width and height as needed\n",
    "\n",
    "# Plotting the data with different colors\n",
    "plt.plot(steph_curry_x.tolist(), steph_curry_y.tolist(), marker='o', linestyle='-', color='blue', label='Line 1')\n",
    "plt.plot(dame_lilla_x.tolist(), dame_lilla_y.tolist(), marker='s', linestyle='--', color='green', label='Line 2')\n",
    "\n",
    "# Adding labels and title\n",
    "plt.xlabel('Horizontal Shot Movement (ft)')\n",
    "plt.ylabel('Vertical Shot Movement (ft)')\n",
    "plt.title('Stephen Curry vs. Damian Lillard Shot')\n"
   ]
  },
  {
   "cell_type": "code",
   "execution_count": 22,
   "metadata": {},
   "outputs": [
    {
     "data": {
      "text/plain": [
       "Text(0.5, 1.0, 'Stephen Curry vs. Damian Lillard Shot')"
      ]
     },
     "execution_count": 22,
     "metadata": {},
     "output_type": "execute_result"
    },
    {
     "data": {
      "image/png": "[encoded data removed]",
      "text/plain": [
       "<Figure size 500x300 with 1 Axes>"
      ]
     },
     "metadata": {},
     "output_type": "display_data"
    }
   ],
   "source": [
    "# Create a smaller figure\n",
    "plt.figure(figsize=(5, 3))  # Adjust the values for width and height as needed\n",
    "\n",
    "# Plotting the data with different colors\n",
    "plt.plot(steph_curry_x.tolist(), steph_curry_y.tolist(), marker='o', linestyle='-', color='blue', label='Line 1')\n",
    "plt.plot(dame_lilla_x.tolist(), dame_lilla_y.tolist(), marker='s', linestyle='--', color='green', label='Line 2')\n",
    "\n",
    "# Adding labels and title\n",
    "plt.xlabel('Horizontal Shot Movement (ft)')\n",
    "plt.ylabel('Vertical Shot Movement (ft)')\n",
    "plt.title('Stephen Curry vs. Damian Lillard Shot')"
   ]
  },
  {
   "cell_type": "code",
   "execution_count": 23,
   "metadata": {},
   "outputs": [
    {
     "name": "stdout",
     "output_type": "stream",
     "text": [
      "        pid       full_name  \\\n",
      "57   201142    Kevin Durant   \n",
      "88   201935    James Harden   \n",
      "91   201939   Stephen Curry   \n",
      "125  202681    Kyrie Irving   \n",
      "129  202691   Klay Thompson   \n",
      "146  203081  Damian Lillard   \n",
      "\n",
      "                                                cy_str  \\\n",
      "57   0.37126293167857605 0.49908378468476877 0.6244...   \n",
      "88   1.0 0.7821143474158778 0.5759799883971807 0.39...   \n",
      "91   0.5792421987984441 0.6999572187313892 0.811468...   \n",
      "125  0.0 0.12720510086253506 0.24717305798693448 0....   \n",
      "129  0.4431085471452963 0.5778465194186798 0.704139...   \n",
      "146  0.0 0.16259314085555482 0.31915483138993533 0....   \n",
      "\n",
      "                                                cz_str   cy_mean   cz_mean  \n",
      "57   0.0 0.02929346614161299 0.06551088319437681 0....  0.649656  0.518902  \n",
      "88   0.0 0.02468855193848185 0.05586326167596545 0....  0.337276  0.497958  \n",
      "91   0.0 0.03852529245988601 0.08186024037014894 0....  0.577025  0.494186  \n",
      "125  0.0 0.002943701931232723 0.012203635248590139 ...  0.665982  0.400252  \n",
      "129  0.0 0.01806584613150708 0.04322015855033012 0....  0.652512  0.485290  \n",
      "146  0.0 0.02853379024629532 0.0626913932302895 0.1...  0.672549  0.497212  \n"
     ]
    }
   ],
   "source": [
    "# scaled_path_detail_df = scaled_path_detail_df.drop(['pid'])\n",
    "\n",
    "# # Combine 'fnm' and 'lnm' into a single column\n",
    "scaled_path_detail_df['full_name'] = scaled_path_detail_df['fnm'] + ' ' + scaled_path_detail_df['lnm']\n",
    "\n",
    "# # Drop the original 'fnm' and 'lnm' columns if they are no longer needed\n",
    "scaled_path_detail_df = scaled_path_detail_df.drop(columns=['fnm', 'lnm'])\n",
    "\n",
    "# Convert lists to strings\n",
    "scaled_path_detail_df['cy_str'] = scaled_path_detail_df['cy'].apply(lambda x: ' '.join(map(str, x)))\n",
    "scaled_path_detail_df['cz_str'] = scaled_path_detail_df['cz'].apply(lambda x: ' '.join(map(str, x)))\n",
    "\n",
    "# Calculate mean values\n",
    "scaled_path_detail_df['cy_mean'] = scaled_path_detail_df['cy'].apply(lambda x: np.mean(x))\n",
    "scaled_path_detail_df['cz_mean'] = scaled_path_detail_df['cz'].apply(lambda x: np.mean(x))\n",
    "\n",
    "# Drop the original list columns\n",
    "scaled_path_detail_df = scaled_path_detail_df.drop(columns=['cy', 'cz'])\n",
    "print(scaled_path_detail_df)\n",
    "\n",
    "# Number of repetitions for each row (for example, 3 times)\n",
    "# repetitions = 100\n",
    "\n",
    "# Repeat each row\n",
    "repeated_df = scaled_path_detail_df.loc[scaled_path_detail_df.index.repeat(1)].reset_index(drop=True)\n",
    "\n",
    "\n",
    "# Drop the 'pid' column\n",
    "repeated_x = repeated_df.drop(['pid'], axis=1)\n",
    "repeated_y = repeated_df['full_name']"
   ]
  },
  {
   "cell_type": "code",
   "execution_count": 24,
   "metadata": {},
   "outputs": [
    {
     "name": "stdout",
     "output_type": "stream",
     "text": [
      "6\n",
      "6\n",
      "Original Development Data Revenue Freq:\n",
      "full_name\n",
      "Damian Lillard    1\n",
      "Stephen Curry     1\n",
      "Klay Thompson     1\n",
      "Kyrie Irving      1\n",
      "Name: count, dtype: int64 \n",
      "\n",
      "Oversampled Development Data Revenue Freq:\n",
      "full_name\n",
      "Damian Lillard    1\n",
      "Stephen Curry     1\n",
      "Klay Thompson     1\n",
      "Kyrie Irving      1\n",
      "Name: count, dtype: int64 \n",
      "\n",
      "Training Data Shape: (3, 4)\n",
      "Testing Data Shape: (1, 4)\n",
      "Training Labels Shape: (3,)\n",
      "Testing Labels Shape: (1,)\n"
     ]
    }
   ],
   "source": [
    "# Assuming repeated_df is your dataframe\n",
    "# Features and target variable\n",
    "X = repeated_df[['cy_str', 'cz_str', 'cy_mean', 'cz_mean']]\n",
    "y = repeated_df['full_name']\n",
    "\n",
    "print(len(X))\n",
    "print(len(y))\n",
    "\n",
    "# Drop rows with NaN values\n",
    "X = X.dropna()\n",
    "y = y[X.index]\n",
    "\n",
    "# Splitting the dataset into develop data and final validation comparison\n",
    "x_dev, x_val, y_dev, y_val = train_test_split(X, y, test_size=0.2, random_state=42)\n",
    "print(\"Original Development Data Revenue Freq:\")\n",
    "print(y_dev.value_counts(), \"\\n\")\n",
    "\n",
    "# Apply SMOTE to only the numeric features\n",
    "numeric_features = ['cy_mean', 'cz_mean']\n",
    "string_features = ['cy_str', 'cz_str']\n",
    "\n",
    "# Extract numeric features\n",
    "x_dev_numeric = x_dev[numeric_features]\n",
    "\n",
    "# Apply SMOTE\n",
    "ros = SMOTE(random_state=42)\n",
    "x_dev_numeric_os, y_dev_os = ros.fit_resample(x_dev_numeric, y_dev)\n",
    "print(\"Oversampled Development Data Revenue Freq:\")\n",
    "print(y_dev_os.value_counts(), \"\\n\")\n",
    "\n",
    "# To combine the oversampled numeric features with original string features\n",
    "# First, find the number of new samples created by SMOTE\n",
    "num_new_samples = len(x_dev_numeric_os) - len(x_dev_numeric)\n",
    "\n",
    "# Extract the original string features\n",
    "x_dev_string = x_dev[string_features]\n",
    "\n",
    "# Randomly select original string features to match the number of new samples\n",
    "new_string_samples = x_dev_string.sample(num_new_samples, replace=True, random_state=42)\n",
    "\n",
    "# Concatenate original and new string features\n",
    "x_dev_string_os = pd.concat([x_dev_string, new_string_samples], ignore_index=True)\n",
    "\n",
    "# Combine oversampled numeric features with string features\n",
    "x_dev_os = pd.concat([pd.DataFrame(x_dev_numeric_os, columns=numeric_features), x_dev_string_os], axis=1)\n",
    "\n",
    "# Drop any remaining NaN values\n",
    "x_dev_os = x_dev_os.dropna()\n",
    "y_dev_os = y_dev_os[x_dev_os.index]\n",
    "\n",
    "# Splitting the oversampled dataset into training and testing sets\n",
    "x_train, x_test, y_train, y_test = train_test_split(x_dev_os, y_dev_os, test_size=0.2, random_state=42)\n",
    "\n",
    "print(\"Training Data Shape:\", x_train.shape)\n",
    "print(\"Testing Data Shape:\", x_test.shape)\n",
    "print(\"Training Labels Shape:\", y_train.shape)\n",
    "print(\"Testing Labels Shape:\", y_test.shape)\n"
   ]
  },
  {
   "cell_type": "code",
   "execution_count": 25,
   "metadata": {},
   "outputs": [
    {
     "data": {
      "text/html": [
       "<div>\n",
       "<style scoped>\n",
       "    .dataframe tbody tr th:only-of-type {\n",
       "        vertical-align: middle;\n",
       "    }\n",
       "\n",
       "    .dataframe tbody tr th {\n",
       "        vertical-align: top;\n",
       "    }\n",
       "\n",
       "    .dataframe thead th {\n",
       "        text-align: right;\n",
       "    }\n",
       "</style>\n",
       "<table border=\"1\" class=\"dataframe\">\n",
       "  <thead>\n",
       "    <tr style=\"text-align: right;\">\n",
       "      <th></th>\n",
       "      <th>cy_mean</th>\n",
       "      <th>cz_mean</th>\n",
       "      <th>cy_str</th>\n",
       "      <th>cz_str</th>\n",
       "    </tr>\n",
       "  </thead>\n",
       "  <tbody>\n",
       "    <tr>\n",
       "      <th>3</th>\n",
       "      <td>0.665982</td>\n",
       "      <td>0.400252</td>\n",
       "      <td>0.0 0.12720510086253506 0.24717305798693448 0....</td>\n",
       "      <td>0.0 0.002943701931232723 0.012203635248590139 ...</td>\n",
       "    </tr>\n",
       "    <tr>\n",
       "      <th>0</th>\n",
       "      <td>0.672549</td>\n",
       "      <td>0.497212</td>\n",
       "      <td>0.0 0.16259314085555482 0.31915483138993533 0....</td>\n",
       "      <td>0.0 0.02853379024629532 0.0626913932302895 0.1...</td>\n",
       "    </tr>\n",
       "    <tr>\n",
       "      <th>2</th>\n",
       "      <td>0.652512</td>\n",
       "      <td>0.485290</td>\n",
       "      <td>0.4431085471452963 0.5778465194186798 0.704139...</td>\n",
       "      <td>0.0 0.01806584613150708 0.04322015855033012 0....</td>\n",
       "    </tr>\n",
       "  </tbody>\n",
       "</table>\n",
       "</div>"
      ],
      "text/plain": [
       "    cy_mean   cz_mean                                             cy_str  \\\n",
       "3  0.665982  0.400252  0.0 0.12720510086253506 0.24717305798693448 0....   \n",
       "0  0.672549  0.497212  0.0 0.16259314085555482 0.31915483138993533 0....   \n",
       "2  0.652512  0.485290  0.4431085471452963 0.5778465194186798 0.704139...   \n",
       "\n",
       "                                              cz_str  \n",
       "3  0.0 0.002943701931232723 0.012203635248590139 ...  \n",
       "0  0.0 0.02853379024629532 0.0626913932302895 0.1...  \n",
       "2  0.0 0.01806584613150708 0.04322015855033012 0....  "
      ]
     },
     "execution_count": 25,
     "metadata": {},
     "output_type": "execute_result"
    }
   ],
   "source": [
    "x_train.head()"
   ]
  },
  {
   "cell_type": "code",
   "execution_count": 26,
   "metadata": {},
   "outputs": [
    {
     "name": "stdout",
     "output_type": "stream",
     "text": [
      "0.0 0.12720510086253506 0.24717305798693448 0.35230312670304753 0.44897034061292795 0.5584025649630573 0.6724335047489763 0.7819178401432758 0.877710251318544 0.950665418447371 0.9916442708038827 0.9999999999999999 0.9837591439819883 0.9478909611760448 0.8973647100083659 0.8371496489051481 0.7722150362925878 0.7065934411653325 0.6284218991920966 0.5378183515686928\n",
      "0.0 0.002943701931232723 0.012203635248590139 0.030123093830629277 0.05815041357238293 0.09476525423757054 0.1386033555275914 0.18833587133087548 0.24263395553585154 0.3001687620309489 0.3596185893835363 0.42603768781669527 0.5019164936378525 0.5833328903099199 0.6663647612958071 0.7470899900584248 0.8215864600606831 0.8862791629405687 0.9448851131818107 1.0\n"
     ]
    }
   ],
   "source": [
    "\n",
    "# print(x_train[1]['cy_str'])\n",
    "# print(x_train[:1]['cy_str'])\n",
    "print(x_train.iloc[0]['cy_str'])\n",
    "print(x_train.iloc[0]['cz_str'])\n"
   ]
  },
  {
   "cell_type": "code",
   "execution_count": 27,
   "metadata": {},
   "outputs": [
    {
     "name": "stdout",
     "output_type": "stream",
     "text": [
      "Accuracy: 0.00\n",
      "Classification Report:\n",
      "                precision    recall  f1-score   support\n",
      "\n",
      "Damian Lillard       0.00      0.00      0.00       0.0\n",
      " Stephen Curry       0.00      0.00      0.00       1.0\n",
      "\n",
      "      accuracy                           0.00       1.0\n",
      "     macro avg       0.00      0.00      0.00       1.0\n",
      "  weighted avg       0.00      0.00      0.00       1.0\n",
      "\n"
     ]
    },
    {
     "name": "stderr",
     "output_type": "stream",
     "text": [
      "/Users/ksuvarna47/anaconda3/lib/python3.11/site-packages/sklearn/metrics/_classification.py:1469: UndefinedMetricWarning: Precision and F-score are ill-defined and being set to 0.0 in labels with no predicted samples. Use `zero_division` parameter to control this behavior.\n",
      "  _warn_prf(average, modifier, msg_start, len(result))\n",
      "/Users/ksuvarna47/anaconda3/lib/python3.11/site-packages/sklearn/metrics/_classification.py:1469: UndefinedMetricWarning: Recall and F-score are ill-defined and being set to 0.0 in labels with no true samples. Use `zero_division` parameter to control this behavior.\n",
      "  _warn_prf(average, modifier, msg_start, len(result))\n",
      "/Users/ksuvarna47/anaconda3/lib/python3.11/site-packages/sklearn/metrics/_classification.py:1469: UndefinedMetricWarning: Precision and F-score are ill-defined and being set to 0.0 in labels with no predicted samples. Use `zero_division` parameter to control this behavior.\n",
      "  _warn_prf(average, modifier, msg_start, len(result))\n",
      "/Users/ksuvarna47/anaconda3/lib/python3.11/site-packages/sklearn/metrics/_classification.py:1469: UndefinedMetricWarning: Recall and F-score are ill-defined and being set to 0.0 in labels with no true samples. Use `zero_division` parameter to control this behavior.\n",
      "  _warn_prf(average, modifier, msg_start, len(result))\n",
      "/Users/ksuvarna47/anaconda3/lib/python3.11/site-packages/sklearn/metrics/_classification.py:1469: UndefinedMetricWarning: Precision and F-score are ill-defined and being set to 0.0 in labels with no predicted samples. Use `zero_division` parameter to control this behavior.\n",
      "  _warn_prf(average, modifier, msg_start, len(result))\n",
      "/Users/ksuvarna47/anaconda3/lib/python3.11/site-packages/sklearn/metrics/_classification.py:1469: UndefinedMetricWarning: Recall and F-score are ill-defined and being set to 0.0 in labels with no true samples. Use `zero_division` parameter to control this behavior.\n",
      "  _warn_prf(average, modifier, msg_start, len(result))\n"
     ]
    }
   ],
   "source": [
    "from sklearn.base import BaseEstimator, TransformerMixin\n",
    "from sklearn.pipeline import make_pipeline, FeatureUnion\n",
    "from sklearn.feature_extraction.text import CountVectorizer\n",
    "\n",
    "# Define custom transformers\n",
    "class TextSelector(BaseEstimator, TransformerMixin):\n",
    "    def __init__(self, key):\n",
    "        self.key = key\n",
    "\n",
    "    def fit(self, X, y=None):\n",
    "        return self\n",
    "\n",
    "    def transform(self, X):\n",
    "        return X[self.key]\n",
    "\n",
    "class NumberSelector(BaseEstimator, TransformerMixin):\n",
    "    def __init__(self, key):\n",
    "        self.key = key\n",
    "\n",
    "    def fit(self, X, y=None):\n",
    "        return self\n",
    "\n",
    "    def transform(self, X):\n",
    "        return X[[self.key]]\n",
    "\n",
    "# Combine the transformers using FeatureUnion\n",
    "features = FeatureUnion([\n",
    "    ('cy_str', make_pipeline(TextSelector(key='cy_str'), CountVectorizer())),\n",
    "    ('cz_str', make_pipeline(TextSelector(key='cz_str'), CountVectorizer())),\n",
    "    ('cy_mean', NumberSelector(key='cy_mean')),\n",
    "    ('cz_mean', NumberSelector(key='cz_mean'))\n",
    "])\n",
    "# Create the final pipeline\n",
    "pipeline = Pipeline([\n",
    "    ('features', features),\n",
    "    ('classifier', GradientBoostingClassifier(n_estimators=100, learning_rate=0.1, max_depth=3, random_state=42))\n",
    "])\n",
    "\n",
    "# Train the model\n",
    "pipeline.fit(x_train, y_train)\n",
    "\n",
    "# Predict and evaluate\n",
    "y_pred = pipeline.predict(x_test)\n",
    "accuracy = accuracy_score(y_test, y_pred)\n",
    "print(f\"Accuracy: {accuracy:.2f}\")\n",
    "\n",
    "# Detailed classification report\n",
    "print(\"Classification Report:\")\n",
    "print(classification_report(y_test, y_pred))\n"
   ]
  },
  {
   "cell_type": "code",
   "execution_count": 28,
   "metadata": {},
   "outputs": [
    {
     "name": "stdout",
     "output_type": "stream",
     "text": [
      "Predicted Label: ['Klay Thompson']\n"
     ]
    }
   ],
   "source": [
    "# Assuming you have a trained model named `pipeline`\n",
    "# and a new data point with generated random data\n",
    "random_data = {\n",
    "    'cy_mean': [0.6],\n",
    "    'cz_mean': [0.4852],\n",
    "    'cy_str': [\"0.4431085471452963 0.5778465194186798 0.7041391752401353 0.8100715792290154 0.8844973281816337 0.9374203447455969 0.9750166754946296 0.9962290005417563 0.9999999999999999 0.9852723539823839 0.9509887426019317 0.89492077041692 0.8024719550162913 0.6797011930881728 0.5396875450186615 0.39551007119385606 0.2602478319998524 0.14697988782274996 0.06612596857596019 0.0\"],\n",
    "    'cz_str': [\"0.0 0.01806584613150708 0.04322015855033012 0.07672393739303007 0.11997828520503473 0.17638519703765565 0.24390418043222895 0.3184593961642378 0.3959750050091645 0.4723751677424922 0.5435840451397046 0.6059288174723315 0.6627207363353741 0.7162336440437781 0.7670877674625333 0.8159033334566296 0.8633005688910561 0.9098997006308028 0.9560624167924975 1.0\"]\n",
    "}\n",
    "\n",
    "# Create a DataFrame with the generated random data\n",
    "new_data_df = pd.DataFrame(random_data)\n",
    "\n",
    "# Predict the label for the new data point\n",
    "predicted_label = pipeline.predict(new_data_df)\n",
    "\n",
    "# Print the predicted label\n",
    "print(\"Predicted Label:\", predicted_label)\n"
   ]
  },
  {
   "cell_type": "code",
   "execution_count": 30,
   "metadata": {},
   "outputs": [
    {
     "data": {
      "text/plain": [
       "['predictorModel.joblib']"
      ]
     },
     "execution_count": 30,
     "metadata": {},
     "output_type": "execute_result"
    }
   ],
   "source": [
    "# Save the model\n",
    "dump(pipeline, 'predictorModel.joblib')"
   ]
  }
 ],
 "metadata": {
  "kernelspec": {
   "display_name": "Python 3 (ipykernel)",
   "language": "python",
   "name": "python3"
  },
  "language_info": {
   "codemirror_mode": {
    "name": "ipython",
    "version": 3
   },
   "file_extension": ".py",
   "mimetype": "text/x-python",
   "name": "python",
   "nbconvert_exporter": "python",
   "pygments_lexer": "ipython3",
   "version": "3.11.5"
  }
 },
 "nbformat": 4,
 "nbformat_minor": 2
}
